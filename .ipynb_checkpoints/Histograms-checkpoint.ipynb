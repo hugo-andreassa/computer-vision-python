{
 "cells": [
  {
   "cell_type": "code",
   "execution_count": 1,
   "metadata": {},
   "outputs": [],
   "source": [
    "import cv2 \n",
    "import numpy as np\n",
    "import matplotlib.pyplot as plt\n",
    "%matplotlib inline"
   ]
  },
  {
   "cell_type": "code",
   "execution_count": null,
   "metadata": {},
   "outputs": [],
   "source": [
    "dark_horse = cv2.imread('Computer Vision With Python/DATA/horse.jpg')\n",
    "show_horse = cv2.cvtColor(dark_horse, cv2.COLOR_BGR2RGB)\n",
    "\n",
    "rainbow = cv2.imread('Computer Vision With Python/DATA/rainbow.jpg')\n",
    "show_rainbow =cv2.cvtColor(rainbow, cv2.COLOR_BGR2RGB)\n",
    "\n",
    "blue_bricks = cv2.imread('Computer Vision With Python/DATA/bricks.jpg')\n",
    "show_bricks = cv2.cvtColor(blue_bricks, cv2.COLOR_BGR2RGB)"
   ]
  }
 ],
 "metadata": {
  "kernelspec": {
   "display_name": "Python 3",
   "language": "python",
   "name": "python3"
  },
  "language_info": {
   "codemirror_mode": {
    "name": "ipython",
    "version": 3
   },
   "file_extension": ".py",
   "mimetype": "text/x-python",
   "name": "python",
   "nbconvert_exporter": "python",
   "pygments_lexer": "ipython3",
   "version": "3.6.6"
  }
 },
 "nbformat": 4,
 "nbformat_minor": 2
}
